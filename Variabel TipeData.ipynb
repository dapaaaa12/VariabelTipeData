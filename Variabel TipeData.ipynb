{
 "cells": [
  {
   "cell_type": "markdown",
   "id": "b21e3249",
   "metadata": {},
   "source": [
    "<h1>Variabel dan Tipe Data Python<h1><hr>\n",
    "    <font color=\"blue\">Beberapa </font> aturan pembuatan variabel di <b>python</b>:"
   ]
  },
  {
   "cell_type": "markdown",
   "id": "1f422a06",
   "metadata": {},
   "source": [
    "<ol>\n",
    "    <li>Bersifat case sensitif => A !=a</li>\n",
    "    <li>harus diawali dengan huruf atau karakter _(underscore)</li>\n",
    "    <li>Tidak boleh menggunakan spasi</li>\n",
    "    <li>Boleh menggunakan angka</li>\n",
    " </ol>"
   ]
  },
  {
   "cell_type": "code",
   "execution_count": 15,
   "id": "75186776",
   "metadata": {},
   "outputs": [
    {
     "name": "stdout",
     "output_type": "stream",
     "text": [
      "10\n",
      "100.9\n",
      "1\n",
      "True\n"
     ]
    }
   ],
   "source": [
    "data_int = 10\n",
    "data_float = 100.9\n",
    "data_string = '1'\n",
    "data_bool = True\n",
    "\n",
    "print(data_int)\n",
    "print(data_float)\n",
    "print(data_string)\n",
    "print(data_bool)"
   ]
  },
  {
   "cell_type": "markdown",
   "id": "176b8b42",
   "metadata": {},
   "source": [
    "Untuk mengetahui tipe data dari sebuah variabel gunakan command <b>type<b/>"
   ]
  },
  {
   "cell_type": "code",
   "execution_count": 16,
   "id": "c2a344ee",
   "metadata": {},
   "outputs": [
    {
     "name": "stdout",
     "output_type": "stream",
     "text": [
      "<class 'int'>\n",
      "<class 'float'>\n",
      "<class 'str'>\n",
      "<class 'bool'>\n"
     ]
    }
   ],
   "source": [
    "print(type(data_int))\n",
    "print(type(data_float))\n",
    "print(type(data_string))\n",
    "print(type(data_bool))\n"
   ]
  },
  {
   "cell_type": "markdown",
   "id": "59911b9f",
   "metadata": {},
   "source": [
    "Pada python terdapat proses <b>CASTING</b> yaitu konversi dari sebuah tipe data ke tipe data yang lain yaitu dengan sintaks <b>tipe_data(nama_variabel)</b>"
   ]
  },
  {
   "cell_type": "code",
   "execution_count": 17,
   "id": "04ae6421",
   "metadata": {},
   "outputs": [
    {
     "name": "stdout",
     "output_type": "stream",
     "text": [
      "Nilai variabel data_int= 10\n",
      "10.0\n",
      "10\n",
      "True\n"
     ]
    }
   ],
   "source": [
    "int_to_float = float(data_int)\n",
    "int_to_string = str(data_int)\n",
    "int_to_bool = bool(data_int)\n",
    "\n",
    "print(\"Nilai variabel data_int=\",data_int)\n",
    "print(int_to_float)\n",
    "print(int_to_string)\n",
    "print(int_to_bool)\n"
   ]
  },
  {
   "cell_type": "code",
   "execution_count": 18,
   "id": "81f4e7c7",
   "metadata": {},
   "outputs": [
    {
     "name": "stdout",
     "output_type": "stream",
     "text": [
      "Nilai variabel data_string= 1\n",
      "1\n",
      "1.0\n",
      "True\n"
     ]
    }
   ],
   "source": [
    "str_to_int = int(data_string)\n",
    "str_to_float = float(data_string)\n",
    "str_to_bool = bool(data_string)\n",
    "\n",
    "print(\"Nilai variabel data_string=\",data_string)\n",
    "print(str_to_int)\n",
    "print(str_to_float)\n",
    "print(str_to_bool)"
   ]
  },
  {
   "cell_type": "code",
   "execution_count": 19,
   "id": "8d0ca840",
   "metadata": {},
   "outputs": [
    {
     "name": "stdout",
     "output_type": "stream",
     "text": [
      "Nilai variabel data_bool= True\n",
      "1\n",
      "1.0\n",
      "True\n"
     ]
    }
   ],
   "source": [
    "bool_to_int = int(data_bool)\n",
    "bool_to_float = float(data_bool)\n",
    "bool_to_str = str(data_bool)\n",
    "\n",
    "print(\"Nilai variabel data_bool=\",data_bool)\n",
    "print(bool_to_int)\n",
    "print(bool_to_float)\n",
    "print(bool_to_str)"
   ]
  },
  {
   "cell_type": "code",
   "execution_count": 29,
   "id": "d026c47e",
   "metadata": {},
   "outputs": [
    {
     "name": "stdout",
     "output_type": "stream",
     "text": [
      "Nilai variabel data_float= 100.9\n",
      "100\n",
      "100.9\n",
      "True\n"
     ]
    }
   ],
   "source": [
    "float_to_int = int(data_float)\n",
    "float_to_str = str(data_float)\n",
    "float_to_bool = bool(data_float)\n",
    "\n",
    "print(\"Nilai variabel data_float=\",data_float)\n",
    "print(float_to_int)\n",
    "print(float_to_str)\n",
    "print(float_to_bool)"
   ]
  },
  {
   "cell_type": "code",
   "execution_count": 34,
   "id": "1afcfeb5",
   "metadata": {},
   "outputs": [
    {
     "name": "stdout",
     "output_type": "stream",
     "text": [
      "isikan bilangan 1:10\n",
      "isikan bilangan 2:2\n",
      "Hasil Penjumlahan 12\n",
      "Hasil pembagian 5.0\n"
     ]
    }
   ],
   "source": [
    "bil1 = input(\"isikan bilangan 1:\")\n",
    "bil2 = input(\"isikan bilangan 2:\")\n",
    "hasil_tambah = int(bil1) + int(bil2)\n",
    "hasil_bagi = int(bil1) / int(bil2)\n",
    "print(\"Hasil Penjumlahan\",hasil_tambah)\n",
    "print(\"Hasil pembagian\",hasil_bagi)"
   ]
  }
 ],
 "metadata": {
  "kernelspec": {
   "display_name": "Python 3 (ipykernel)",
   "language": "python",
   "name": "python3"
  },
  "language_info": {
   "codemirror_mode": {
    "name": "ipython",
    "version": 3
   },
   "file_extension": ".py",
   "mimetype": "text/x-python",
   "name": "python",
   "nbconvert_exporter": "python",
   "pygments_lexer": "ipython3",
   "version": "3.9.12"
  }
 },
 "nbformat": 4,
 "nbformat_minor": 5
}
